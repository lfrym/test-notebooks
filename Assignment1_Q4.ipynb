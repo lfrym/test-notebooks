{
 "cells": [
  {
   "cell_type": "markdown",
   "metadata": {},
   "source": [
    "First, define variables and abatement cost and damage functions"
   ]
  },
  {
   "cell_type": "code",
   "execution_count": 82,
   "metadata": {},
   "outputs": [],
   "source": [
    "var('a1 a2 b1 b2 c e MC MC_tilde MD')\n",
    "\n",
    "MC_eq = MC==a1-b1*e\n",
    "MC_tilde_eq = MC_tilde==a1+c-b1*e\n",
    "MD_eq = MD==a2+b2*e"
   ]
  },
  {
   "cell_type": "markdown",
   "metadata": {},
   "source": [
    "Find true optimal allocation:"
   ]
  },
  {
   "cell_type": "code",
   "execution_count": 90,
   "metadata": {},
   "outputs": [
    {
     "data": {
      "text/plain": [
       "(a1 - a2)/(b1 + b2)"
      ]
     },
     "execution_count": 90,
     "metadata": {},
     "output_type": "execute_result"
    }
   ],
   "source": [
    "optimum_eq = MC==MD\n",
    "optimum = solve([optimum_eq,MC_eq,MD_eq],e,MC,MD)\n",
    "e_star = optimum[0][0].rhs()\n",
    "e_star"
   ]
  },
  {
   "cell_type": "markdown",
   "metadata": {},
   "source": [
    "Next, solve for what the regulator thinks is the optimal allocation."
   ]
  },
  {
   "cell_type": "code",
   "execution_count": 84,
   "metadata": {},
   "outputs": [
    {
     "data": {
      "text/plain": [
       "[[e == (a1 - a2 + c)/(b1 + b2), MC_tilde == (a2*b1 + a1*b2 + b2*c)/(b1 + b2), MD == (a2*b1 + a1*b2 + b2*c)/(b1 + b2)]]"
      ]
     },
     "execution_count": 84,
     "metadata": {},
     "output_type": "execute_result"
    }
   ],
   "source": [
    "optimum_tilde_eq = MC_tilde==MD\n",
    "\n",
    "optimum_tilde = solve([optimum_tilde_eq,MC_tilde_eq,MD_eq],e,MC_tilde,MD)\n",
    "optimum_tilde"
   ]
  },
  {
   "cell_type": "markdown",
   "metadata": {},
   "source": [
    "If the regulator uses a price instrument, they will set `tax = MC_tilde` at what they think is the optimum allocation:"
   ]
  },
  {
   "cell_type": "code",
   "execution_count": 85,
   "metadata": {},
   "outputs": [
    {
     "data": {
      "text/plain": [
       "(a2*b1 + a1*b2 + b2*c)/(b1 + b2)"
      ]
     },
     "execution_count": 85,
     "metadata": {},
     "output_type": "execute_result"
    }
   ],
   "source": [
    "tax = optimum_tilde[0][1].rhs()\n",
    "tax"
   ]
  },
  {
   "cell_type": "markdown",
   "metadata": {},
   "source": [
    "Firms will then choose e such that `MC = tax` using true marginal cost"
   ]
  },
  {
   "cell_type": "code",
   "execution_count": 104,
   "metadata": {},
   "outputs": [
    {
     "data": {
      "text/plain": [
       "((a1 - a2)*b1 - b2*c)/(b1^2 + b1*b2)"
      ]
     },
     "execution_count": 104,
     "metadata": {},
     "output_type": "execute_result"
    }
   ],
   "source": [
    "firm_eq = MC==tax\n",
    "e_tax = solve([MC_eq,firm_eq],e,MC)[0][0].rhs()\n",
    "e_tax"
   ]
  },
  {
   "cell_type": "markdown",
   "metadata": {},
   "source": [
    "Calculate deadweight loss under the tax:"
   ]
  },
  {
   "cell_type": "code",
   "execution_count": 107,
   "metadata": {},
   "outputs": [
    {
     "data": {
      "text/plain": [
       "1/2*b2^2*c^2/(b1^3 + b1^2*b2)"
      ]
     },
     "execution_count": 107,
     "metadata": {},
     "output_type": "execute_result"
    }
   ],
   "source": [
    "surplus_optimal = integral(MC_eq.rhs()-MD_eq.rhs(),e,0,e_star)\n",
    "surplus_taxed = integral(MC_eq.rhs()-MD_eq.rhs(),e,0,e_tax)\n",
    "DWL_tax = surplus_optimal-surplus_taxed\n",
    "DWL_tax.full_simplify()"
   ]
  },
  {
   "cell_type": "markdown",
   "metadata": {},
   "source": [
    "Next, if the regulator uses a quantity restriction, they will set `cap = e_tilde`"
   ]
  },
  {
   "cell_type": "code",
   "execution_count": 109,
   "metadata": {},
   "outputs": [
    {
     "data": {
      "text/plain": [
       "(a1 - a2 + c)/(b1 + b2)"
      ]
     },
     "execution_count": 109,
     "metadata": {},
     "output_type": "execute_result"
    }
   ],
   "source": [
    "cap = optimum_tilde[0][0].rhs()\n",
    "cap"
   ]
  },
  {
   "cell_type": "markdown",
   "metadata": {},
   "source": [
    "Given that firms will emit up until the cap at e_tilde, deadweight loss is given by:"
   ]
  },
  {
   "cell_type": "code",
   "execution_count": 111,
   "metadata": {},
   "outputs": [
    {
     "data": {
      "text/plain": [
       "1/2*c^2/(b1 + b2)"
      ]
     },
     "execution_count": 111,
     "metadata": {},
     "output_type": "execute_result"
    }
   ],
   "source": [
    "surplus_capped = integral(MC_eq.rhs()-MD_eq.rhs(),e,0,cap)\n",
    "DWL_cap = surplus_optimal-surplus_capped\n",
    "DWL_cap.full_simplify()"
   ]
  },
  {
   "cell_type": "markdown",
   "metadata": {},
   "source": [
    "When will `DWL_tax < DWL_cap`? "
   ]
  },
  {
   "cell_type": "code",
   "execution_count": 112,
   "metadata": {},
   "outputs": [
    {
     "data": {
      "text/plain": [
       "[[b2 < b1, c != 0]]"
      ]
     },
     "execution_count": 112,
     "metadata": {},
     "output_type": "execute_result"
    }
   ],
   "source": [
    "solve([DWL_tax<DWL_cap],c)"
   ]
  },
  {
   "cell_type": "markdown",
   "metadata": {},
   "source": [
    "DWL is less under a price instrument if `b2 < b1`, i.e. if the slope of the damage curve is less than the slope of the abatement cost curve. "
   ]
  }
 ],
 "metadata": {
  "kernelspec": {
   "display_name": "SageMath 9.2",
   "language": "sage",
   "name": "sagemath"
  },
  "language_info": {
   "codemirror_mode": {
    "name": "ipython",
    "version": 3
   },
   "file_extension": ".py",
   "mimetype": "text/x-python",
   "name": "python",
   "nbconvert_exporter": "python",
   "pygments_lexer": "ipython3",
   "version": "3.9.1"
  }
 },
 "nbformat": 4,
 "nbformat_minor": 4
}
